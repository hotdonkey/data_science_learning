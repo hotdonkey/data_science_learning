{
 "cells": [
  {
   "cell_type": "code",
   "execution_count": 49,
   "metadata": {},
   "outputs": [
    {
     "name": "stdout",
     "output_type": "stream",
     "text": [
      "1\n",
      "2\n",
      "0\n",
      "0\n",
      "0\n",
      "1\n",
      "2\n",
      "3\n",
      "0\n",
      "0\n",
      "[1, 2, 0, 0, 0, 1, 2, 3, 0, 0]\n"
     ]
    }
   ],
   "source": [
    "test_string = 'ssbbbsssbc'\n",
    "decoder = [x for x in test_string]\n",
    "counter = 0\n",
    "counter_list = []\n",
    "\n",
    "for x in decoder:\n",
    "    if x == 's':\n",
    "        counter += 1\n",
    "        counter_list.append(counter)\n",
    "        print(counter)\n",
    "    else:\n",
    "        counter = 0\n",
    "        counter_list.append(counter)\n",
    "        print(counter)\n",
    "print(counter_list)"
   ]
  },
  {
   "cell_type": "code",
   "execution_count": 100,
   "metadata": {},
   "outputs": [
    {
     "data": {
      "text/plain": [
       "'d'"
      ]
     },
     "execution_count": 100,
     "metadata": {},
     "output_type": "execute_result"
    }
   ],
   "source": [
    "test_string = 'ssbbbsssbcsssswss'\n",
    "\n",
    "def decoder_func(text_string):\n",
    "    \n",
    "    \n",
    "    alphabet = 'abcdefghijklmnopqrstuvwxyz'\n",
    "    alphabet_index = [x for x in range(1,len(alphabet)+1)]\n",
    "    alphabet_dict = dict(zip(alphabet_index, alphabet))\n",
    "    \n",
    "    decoder = [x for x in text_string]\n",
    "    counter = 0\n",
    "    counter_list = []\n",
    "    \n",
    "    for x in decoder:\n",
    "        if x == 's':\n",
    "            counter += 1\n",
    "            counter_list.append(counter)\n",
    "            \n",
    "        else:\n",
    "            counter = 0\n",
    "            counter_list.append(counter)\n",
    "            \n",
    "\n",
    "    return alphabet_dict[max(counter_list)] #max(counter_list)\n",
    "\n",
    "\n",
    "decoder_func(test_string)"
   ]
  },
  {
   "cell_type": "code",
   "execution_count": 116,
   "metadata": {},
   "outputs": [
    {
     "name": "stdout",
     "output_type": "stream",
     "text": [
      "Too much s you dickhead\n"
     ]
    }
   ],
   "source": [
    "test_string = 'ssbbbsssbcssssws'\n",
    "\n",
    "def decoder_func(text_string):\n",
    "    \n",
    "    def decoder_inner(text_string):\n",
    "        alphabet = 'abcdefghijklmnopqrstuvwxyz'\n",
    "        alphabet_index = [x for x in range(1,len(alphabet)+1)]\n",
    "        alphabet_dict = dict(zip(alphabet_index, alphabet))\n",
    "        \n",
    "        decoder = [x for x in text_string]\n",
    "        counter = 0\n",
    "        counter_list = []\n",
    "        \n",
    "        for x in decoder:\n",
    "            if x == 's':\n",
    "                counter += 1\n",
    "                counter_list.append(counter)      \n",
    "            else:\n",
    "                counter = 0\n",
    "                counter_list.append(counter)\n",
    "        return alphabet_dict[max(counter_list)]\n",
    "    \n",
    "    try:\n",
    "        decoder_inner(text_string)\n",
    "    except TypeError:\n",
    "        print('It should be a string you morron')\n",
    "        return None\n",
    "    except KeyError:\n",
    "        print('Too much s you dickhead')\n",
    "        return None\n",
    "    \n",
    "    return decoder_inner(text_string)\n",
    "\n",
    "\n",
    "decoder_func(test_string)"
   ]
  },
  {
   "cell_type": "code",
   "execution_count": null,
   "metadata": {},
   "outputs": [],
   "source": []
  }
 ],
 "metadata": {
  "kernelspec": {
   "display_name": "Python 3.10.6 64-bit",
   "language": "python",
   "name": "python3"
  },
  "language_info": {
   "codemirror_mode": {
    "name": "ipython",
    "version": 3
   },
   "file_extension": ".py",
   "mimetype": "text/x-python",
   "name": "python",
   "nbconvert_exporter": "python",
   "pygments_lexer": "ipython3",
   "version": "3.10.6"
  },
  "orig_nbformat": 4,
  "vscode": {
   "interpreter": {
    "hash": "27b4a17af713f464e4f7b4da81cd20c20d6cf4af2f1712b81a84a456da04343d"
   }
  }
 },
 "nbformat": 4,
 "nbformat_minor": 2
}
