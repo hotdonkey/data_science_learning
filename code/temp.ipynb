{
 "cells": [
  {
   "cell_type": "code",
   "execution_count": 1,
   "metadata": {},
   "outputs": [],
   "source": [
    "import qrcode\n",
    "img = qrcode.make('https://www.google.com/imgres?imgurl=https%3A%2F%2Favatars.dzeninfra.ru%2Fget-zen_doc%2F4471199%2Fpub_60d96e45a487630a3ff2dc01_60d97287a487630a3ffe4424%2Fscale_1200&imgrefurl=https%3A%2F%2Fdzen.ru%2Fmedia%2Fshowbizby%2Fudivitelnye-zuby-freddi-merkiuri-i-kak-oni-vliiali-na-ego-golos-60d96e45a487630a3ff2dc01&tbnid=gtQLNmHFubNQlM&vet=12ahUKEwiivN7Lruf7AhUEuIsKHSuLBZgQMygEegUIARDmAQ..i&docid=OUESP7S5acf3AM&w=719&h=781&q=%D1%84%D1%80%D0%B5%D0%B4%D0%B4%D0%B8%20%D0%BC%D0%B5%D1%80%D0%BA%D1%8C%D1%8E%D1%80%D0%B8&ved=2ahUKEwiivN7Lruf7AhUEuIsKHSuLBZgQMygEegUIARDmAQ')\n",
    "type(img)\n",
    "img.save('first_qr.png')"
   ]
  }
 ],
 "metadata": {
  "kernelspec": {
   "display_name": "Python 3.11.0 64-bit",
   "language": "python",
   "name": "python3"
  },
  "language_info": {
   "codemirror_mode": {
    "name": "ipython",
    "version": 3
   },
   "file_extension": ".py",
   "mimetype": "text/x-python",
   "name": "python",
   "nbconvert_exporter": "python",
   "pygments_lexer": "ipython3",
   "version": "3.11.0"
  },
  "orig_nbformat": 4,
  "vscode": {
   "interpreter": {
    "hash": "aee8b7b246df8f9039afb4144a1f6fd8d2ca17a180786b69acc140d282b71a49"
   }
  }
 },
 "nbformat": 4,
 "nbformat_minor": 2
}
