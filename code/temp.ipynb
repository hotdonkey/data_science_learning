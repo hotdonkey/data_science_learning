{
 "cells": [
  {
   "cell_type": "code",
   "execution_count": 1,
   "metadata": {},
   "outputs": [
    {
     "data": {
      "text/plain": [
       "'F...'"
      ]
     },
     "execution_count": 1,
     "metadata": {},
     "output_type": "execute_result"
    }
   ],
   "source": [
    "def cut_str(text, max_len=0):\n",
    "    try:\n",
    "        if len(text) <= max_len:\n",
    "            return text\n",
    "        elif max_len == 0:\n",
    "            print('You forgot to adjust a max_len parameter')\n",
    "        elif max_len < 0:\n",
    "            print('Could you please choose a positive number for max_len parameter')\n",
    "        else:\n",
    "            return text[:max_len] + '...'\n",
    "    except TypeError:\n",
    "        print('It should be a string')\n",
    "\n",
    "test = 'Faggit sittin\\' in Turkey'\n",
    "\n",
    "cut_str(test, max_len=1)\n"
   ]
  }
 ],
 "metadata": {
  "kernelspec": {
   "display_name": "Python 3.10.6 64-bit",
   "language": "python",
   "name": "python3"
  },
  "language_info": {
   "codemirror_mode": {
    "name": "ipython",
    "version": 3
   },
   "file_extension": ".py",
   "mimetype": "text/x-python",
   "name": "python",
   "nbconvert_exporter": "python",
   "pygments_lexer": "ipython3",
   "version": "3.10.6"
  },
  "orig_nbformat": 4,
  "vscode": {
   "interpreter": {
    "hash": "27b4a17af713f464e4f7b4da81cd20c20d6cf4af2f1712b81a84a456da04343d"
   }
  }
 },
 "nbformat": 4,
 "nbformat_minor": 2
}
