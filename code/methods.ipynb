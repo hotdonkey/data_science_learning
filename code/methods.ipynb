{
 "cells": [
  {
   "cell_type": "code",
   "execution_count": null,
   "metadata": {},
   "outputs": [],
   "source": [
    "#Dict from str\n",
    "alphabet_str = 'abcdefghijklmnopqrstuvwxyz'\n",
    "\n",
    "alphabet_list = [x for x in alphabet_str]    #создаем список из элементов строки\n",
    "alphabet_dict = dict.fromkeys(alphabet_list, 0) #создаем словарь из вышесозданного списка и передаем в качестве значений 0\n",
    "alphabet_dict_2 = {char:0 for char in alphabet_str}\n",
    "\n",
    "print(alphabet_list)\n",
    "print(alphabet_dict)\n",
    "print(alphabet_dict_2)"
   ]
  },
  {
   "cell_type": "code",
   "execution_count": null,
   "metadata": {},
   "outputs": [],
   "source": [
    "#Matrix/list of lists unpack\n",
    "\n",
    "groceries = [['Milk', 'Milk', 'Beer'], ['Chocolate', 'Bread', 'Chips']]\n",
    "groceries_unpacked = [x for x in groceries for x in x]\n",
    "print(groceries_unpacked)\n",
    "\n",
    "matrix = [[1,2,3],[3,4,5],[6,7,8]]\n",
    "matrix_flatten = [x for x in matrix for x in x]\n",
    "matrix_flatten"
   ]
  },
  {
   "cell_type": "code",
   "execution_count": null,
   "metadata": {},
   "outputs": [],
   "source": [
    "#Ordered dict sorting\n",
    "\n",
    "from collections import OrderedDict\n",
    "\n",
    "\n",
    "ratings = [('Old York', 3.3), ('New Age', 4.6), ('Old Gold', 3.3), ('General Foods', 4.8),\n",
    "           ('Belissimo', 4.5), ('CakeAndCoffee', 4.2), ('CakeOClock', 4.2), ('CakeTime', 4.1),\n",
    "           ('WokToWork', 4.9), ('WokAndRice', 4.9), ('Old Wine Cellar', 3.3), ('Nice Cakes', 3.9)]\n",
    "         \n",
    "\n",
    "\n",
    "cafes = OrderedDict(sorted(ratings, key=lambda x:x[1]))   #change [1] to [0] for sorting by key\n",
    "print(cafes)\n",
    "\n",
    "cafes = OrderedDict(sorted(ratings, key=lambda x:-x[1]))  #in reverse by key\n",
    "print(cafes)\n",
    "\n",
    "cafes = OrderedDict(sorted(ratings, key=lambda x:x[1]), reverse= True)   #change [1] to [0] for sorting by key\n",
    "print(cafes)\n",
    "\n",
    "cafes = OrderedDict(sorted(ratings, key=lambda x:-x[1]), reverse= True)   #change [1] to [0] for sorting by key\n",
    "print(cafes)"
   ]
  },
  {
   "cell_type": "code",
   "execution_count": null,
   "metadata": {},
   "outputs": [],
   "source": [
    "#Ordered dict sorting (specific)\n",
    "from collections import OrderedDict\n",
    "\n",
    "ratings = [('Old York', 3.3), ('New Age', 4.6), ('Old Gold', 3.3), ('General Foods', 4.8),\n",
    "          ('Belissimo', 4.5), ('CakeAndCoffee', 4.2), ('CakeOClock', 4.2), ('CakeTime', 4.1),\n",
    "          ('WokToWork', 4.9), ('WokAndRice', 4.9), ('Old Wine Cellar', 3.3), ('Nice Cakes', 3.9)]\n",
    "\n",
    "\n",
    "ratings.sort(key=lambda x: (-x[1], x[0]))  #cортировка по ключу и значению в кортеже\n",
    "\n",
    "cafes = OrderedDict(ratings)\n",
    "\n",
    "print(cafes)"
   ]
  },
  {
   "cell_type": "code",
   "execution_count": null,
   "metadata": {},
   "outputs": [],
   "source": [
    "#How to create dict from list of tupples with 2 records in value\n",
    "from collections import defaultdict\n",
    "\n",
    "tasks = [(36871, 'office', False),\n",
    "(40690, 'office', False),\n",
    "(35364, 'voltage', False),\n",
    "(41667, 'voltage', True),\n",
    "(33850, 'office', False)]\n",
    "\n",
    "tasks_dict = defaultdict(list)\n",
    "for key, value, state in tasks:\n",
    "    tasks_dict[key].append(value)\n",
    "    tasks_dict[key].append(state)\n",
    "\n",
    "sorted(tasks_dict.items())"
   ]
  },
  {
   "cell_type": "code",
   "execution_count": null,
   "metadata": {},
   "outputs": [],
   "source": [
    "#Creating dictionarie from the list of tupples with 3 elements\n",
    "from collections import defaultdict, OrderedDict, deque\n",
    "\n",
    "tasks = [(36871, 'office', False),\n",
    "(40690, 'office', False),\n",
    "(35364, 'voltage', False),\n",
    "(41667, 'voltage', True),\n",
    "(33850, 'office', False)]\n",
    "\n",
    "tasks_list = defaultdict(list)\n",
    "\n",
    "for key, value, state in tasks:\n",
    "    tasks_list[key].append(value)\n",
    "    tasks_list[key].append(state)\n",
    "\n",
    "tasks_dict = dict(tasks_list)\n",
    "\n",
    "print(tasks_dict)"
   ]
  },
  {
   "cell_type": "code",
   "execution_count": null,
   "metadata": {},
   "outputs": [],
   "source": [
    "#Creating dict\n",
    "from collections import defaultdict, OrderedDict, deque\n",
    "\n",
    "tasks = [(36871, 'office', False),\n",
    "(40690, 'office', False),\n",
    "(35364, 'voltage', False),\n",
    "(41667, 'voltage', True),\n",
    "(33850, 'office', False)]\n",
    "\n",
    "def task_manager(tasks):\n",
    "    pass\n",
    "\n",
    "task_deque = deque(tasks)\n",
    "\n",
    "task_dict = {}\n",
    "\n",
    "for value, key, state in task_deque:\n",
    "    task_dict.setdefault(key, []).append(value)\n",
    "task_dict"
   ]
  },
  {
   "cell_type": "code",
   "execution_count": null,
   "metadata": {},
   "outputs": [],
   "source": [
    "#Creating default dict via 3rd parameter\n",
    "\n",
    "from collections import defaultdict, OrderedDict, deque\n",
    "\n",
    "tasks = [(36871, 'office', False),\n",
    "(40690, 'office', False),\n",
    "(35364, 'voltage', False),\n",
    "(41667, 'voltage', True),\n",
    "(33850, 'office', False)]\n",
    "\n",
    "def task_manager(tasks):\n",
    "    \n",
    "    task_dict = defaultdict(dict)\n",
    "    \n",
    "    for value, key, state in tasks:\n",
    "        if state == True:\n",
    "            task_dict.setdefault(key, deque()).appendleft(value)  #if State is == True thus the priority is higher\n",
    "        else:\n",
    "            task_dict.setdefault(key, deque()).append(value)      #place task after the high priority task\n",
    "            \n",
    "    \n",
    "    return task_dict\n",
    "\n",
    "task_manager(tasks)"
   ]
  }
 ],
 "metadata": {
  "kernelspec": {
   "display_name": "Python 3.10.6 64-bit",
   "language": "python",
   "name": "python3"
  },
  "language_info": {
   "codemirror_mode": {
    "name": "ipython",
    "version": 3
   },
   "file_extension": ".py",
   "mimetype": "text/x-python",
   "name": "python",
   "nbconvert_exporter": "python",
   "pygments_lexer": "ipython3",
   "version": "3.10.6"
  },
  "orig_nbformat": 4,
  "vscode": {
   "interpreter": {
    "hash": "27b4a17af713f464e4f7b4da81cd20c20d6cf4af2f1712b81a84a456da04343d"
   }
  }
 },
 "nbformat": 4,
 "nbformat_minor": 2
}
