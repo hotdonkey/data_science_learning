{
 "cells": [
  {
   "cell_type": "code",
   "execution_count": 4,
   "metadata": {},
   "outputs": [
    {
     "name": "stdout",
     "output_type": "stream",
     "text": [
      "True\n",
      "True\n",
      "False\n",
      "False\n",
      "False\n"
     ]
    }
   ],
   "source": [
    "\n",
    "#Bracket order function\n",
    "\n",
    "from collections import deque\n",
    "from re import L\n",
    "\n",
    "\n",
    "def brackets(line):\n",
    "    \n",
    "    if len(line) == 0:                            #empty line check\n",
    "        return True\n",
    "    \n",
    "    elif line[0] == ')':                          #wrong bracket chek\n",
    "        return False\n",
    "    \n",
    "    else:\n",
    "        line_stack = deque(line[0])\n",
    "        \n",
    "        try:                                      #simple logic that creates object 'deque' and starting to\n",
    "            for element in line[1:] :             #put elements from the line\n",
    "                \n",
    "                if element in line_stack:\n",
    "                    line_stack.append(element)\n",
    "                \n",
    "                else:                             #if the new element is not in the deque i.e. we found the first\n",
    "                    line_stack.pop()              #entrance of closing bracket in sequence and we're starting\n",
    "                                                  #to withdraw opening brackets from the deque\n",
    "            \n",
    "            if line_stack == deque([]):           #if deque is empty than the whole sequnce was correct\n",
    "                return True \n",
    "            else:\n",
    "                line_stack != deque([])           #otherwise the sequence was wrong all along \n",
    "                return False    \n",
    "            \n",
    "        except IndexError:                        #if we intercept an error thus we found a wrong bracket Grat success\n",
    "            return False    \n",
    "        \n",
    "    return line_stack\n",
    "\n",
    "print(brackets(\"(()())\"))\n",
    "print(brackets(\"\"))\n",
    "print(brackets(\"(()()))\"))\n",
    "print(brackets(\"((((\"))\n",
    "print(brackets('(())()'))\n"
   ]
  },
  {
   "cell_type": "code",
   "execution_count": 81,
   "metadata": {},
   "outputs": [
    {
     "name": "stdout",
     "output_type": "stream",
     "text": [
      "True\n",
      "True\n",
      "False\n",
      "False\n",
      "True\n",
      "True\n",
      "True\n"
     ]
    }
   ],
   "source": [
    "\n",
    "#Bracket order function (full variant)\n",
    "\n",
    "from collections import deque\n",
    "from re import L\n",
    "\n",
    "\n",
    "def brackets(line):\n",
    "    \n",
    "    if len(line) == 0:                            #empty line check\n",
    "        return True\n",
    "    \n",
    "    elif line[0] == ')':                          #wrong bracket chek\n",
    "        return False\n",
    "    \n",
    "    else:\n",
    "        line_stack = deque(line[0])\n",
    "        line_stack_counter = deque(line[1:])\n",
    "        \n",
    "        try:                                      #simple logic that creates object 'deque' and starting to\n",
    "            \n",
    "            for element in line[1:] :             #put elements from the line\n",
    "                \n",
    "                if element in line_stack:\n",
    "                    line_stack.append(element)\n",
    "                    line_stack_counter.popleft()\n",
    "                \n",
    "                elif line_stack == deque([]) and line_stack_counter != deque([]):    #hello darkness my old friend\n",
    "                    line_stack = deque(line_stack_counter[0])                        #this and next step** below is so stupid\n",
    "                \n",
    "                else:                             #if the new element is not in the deque i.e. we found the first\n",
    "                    line_stack.pop()              #entrance of closing bracket in sequence and we're starting\n",
    "                    line_stack_counter.popleft()                              #to withdraw opening brackets from the deque\n",
    "                            \n",
    "            \n",
    "            \n",
    "            if line_stack == deque([]):           #if deque is empty than the whole sequnce was correct\n",
    "                return True \n",
    "            \n",
    "            \n",
    "            elif line_stack_counter == deque(['(', ')']):          #**hey until it's work it's fine... yeah?\n",
    "                return True\n",
    "            \n",
    "            else:\n",
    "                line_stack != deque([])           #otherwise the sequence was wrong all along \n",
    "                return False    \n",
    "            \n",
    "        except IndexError:                        #if we intercept an error thus we found a wrong bracket Grat success\n",
    "            return False    \n",
    "        \n",
    "\n",
    "print(brackets(\"(()())\"))\n",
    "print(brackets(\"\"))\n",
    "print(brackets(\"(()()))\"))\n",
    "print(brackets(\"((((\"))\n",
    "print(brackets('(())()'))\n",
    "print(brackets('(())()()()()'))\n",
    "print(brackets('(())()(())'))"
   ]
  }
 ],
 "metadata": {
  "kernelspec": {
   "display_name": "Python 3.10.6 64-bit",
   "language": "python",
   "name": "python3"
  },
  "language_info": {
   "name": "python",
   "version": "3.10.6"
  },
  "orig_nbformat": 4,
  "vscode": {
   "interpreter": {
    "hash": "27b4a17af713f464e4f7b4da81cd20c20d6cf4af2f1712b81a84a456da04343d"
   }
  }
 },
 "nbformat": 4,
 "nbformat_minor": 2
}
