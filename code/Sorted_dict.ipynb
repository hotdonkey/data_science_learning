{
 "cells": [
  {
   "cell_type": "code",
   "execution_count": 5,
   "metadata": {},
   "outputs": [
    {
     "name": "stdout",
     "output_type": "stream",
     "text": [
      "OrderedDict([('2020', 1.5), ('2005', -1.6), ('2008', -1.7), ('2007', -2.4), ('2001', -2.5), ('2015', -2.7), ('2018', -2.9), ('2009', -3.5), ('2017', -3.9), ('2000', -4.4), ('2002', -4.4), ('2012', -4.9), ('2011', -5.8), ('2006', -5.9), ('2013', -6.1), ('2019', -6.5), ('2014', -6.9), ('2004', -8.2), ('2003', -9.5), ('2016', -11.2), ('2010', -12.1)])\n"
     ]
    }
   ],
   "source": [
    "#Sorting OrderDict or just a dict in newer versions in the reverse order\n",
    "\n",
    "\n",
    "from collections import OrderedDict\n",
    "\n",
    "temps = [('2000', -4.4), ('2001', -2.5), ('2002', -4.4), ('2003', -9.5),\n",
    "        ('2004', -8.2), ('2005', -1.6), ('2006', -5.9), ('2007', -2.4),\n",
    "        ('2008', -1.7), ('2009', -3.5), ('2010', -12.1), ('2011', -5.8),\n",
    "        ('2012', -4.9), ('2013', -6.1), ('2014', -6.9), ('2015', -2.7),\n",
    "        ('2016', -11.2), ('2017', -3.9), ('2018', -2.9), ('2019', -6.5),\n",
    "        ('2020', 1.5)]\n",
    "\n",
    "temps_dict = OrderedDict(sorted(temps, key=lambda x: x[1], reverse=True))    # Make a note about optional parameter\n",
    "print(temps_dict)"
   ]
  },
  {
   "cell_type": "code",
   "execution_count": 81,
   "metadata": {},
   "outputs": [
    {
     "name": "stdout",
     "output_type": "stream",
     "text": [
      "True\n",
      "True\n",
      "False\n",
      "False\n"
     ]
    }
   ],
   "source": [
    "#Bracket order function\n",
    "\n",
    "from collections import deque\n",
    "from re import L\n",
    "\n",
    "\n",
    "def brackets(line):\n",
    "    \n",
    "    if len(line) == 0:\n",
    "        return True\n",
    "    \n",
    "    elif line[0] == ')':\n",
    "        return False\n",
    "    \n",
    "    else:\n",
    "        line_stack = deque(line[0])\n",
    "        \n",
    "        try:\n",
    "            for element in line[1:] :\n",
    "                \n",
    "                if element in line_stack:\n",
    "                    line_stack.append(element)\n",
    "                \n",
    "                else:\n",
    "                    line_stack.pop() \n",
    "            \n",
    "            if line_stack == deque([]):\n",
    "                return True \n",
    "            else:\n",
    "                line_stack != deque([])  \n",
    "                return False    \n",
    "            \n",
    "        except IndexError:\n",
    "            return False    \n",
    "        \n",
    "    return line_stack\n",
    "\n",
    "print(brackets(\"(()())\"))\n",
    "print(brackets(\"\"))\n",
    "print(brackets(\"(()()))\"))\n",
    "print(brackets(\"((((\"))\n"
   ]
  },
  {
   "cell_type": "code",
   "execution_count": null,
   "metadata": {},
   "outputs": [],
   "source": []
  }
 ],
 "metadata": {
  "kernelspec": {
   "display_name": "Python 3.10.6 64-bit",
   "language": "python",
   "name": "python3"
  },
  "language_info": {
   "codemirror_mode": {
    "name": "ipython",
    "version": 3
   },
   "file_extension": ".py",
   "mimetype": "text/x-python",
   "name": "python",
   "nbconvert_exporter": "python",
   "pygments_lexer": "ipython3",
   "version": "3.10.6"
  },
  "orig_nbformat": 4,
  "vscode": {
   "interpreter": {
    "hash": "27b4a17af713f464e4f7b4da81cd20c20d6cf4af2f1712b81a84a456da04343d"
   }
  }
 },
 "nbformat": 4,
 "nbformat_minor": 2
}
