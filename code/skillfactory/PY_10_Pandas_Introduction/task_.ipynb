{
 "cells": [
  {
   "cell_type": "code",
   "execution_count": null,
   "metadata": {},
   "outputs": [],
   "source": [
    "import pandas as pd\n",
    "\n",
    "names=['chlorhexidine', 'cyntomycin', 'afobazol']\n",
    "counts=[15, 18, 7]\n",
    "\n",
    "def create_medications(names, counts):\n",
    "    \"\"\"\n",
    "    Напишите функцию create_mediactions(names, counts), которая  создает Series medications,\n",
    "    индексами которой являются названия лекарств names, а значениями - их количество в поставке counts\n",
    "    \"\"\"\n",
    "    return pd.Series(data = counts, index = names)\n",
    "\n",
    "def get_percent(medications, name):\n",
    "    \"\"\"\n",
    "    А также напишите функцию get_percent(medications, name), которая возвращает долю количества товара\n",
    "    с именем name от общего количества товаров в поставке в процентах.\n",
    "    \"\"\"\n",
    "    return (medications[name] / sum(medications)) * 100\n",
    "\n",
    "medications = create_medications(names, counts)\n",
    "print(get_percent(medications,'chlorhexidine'))"
   ]
  },
  {
   "cell_type": "code",
   "execution_count": 130,
   "metadata": {},
   "outputs": [
    {
     "name": "stdout",
     "output_type": "stream",
     "text": [
      "Empty DataFrame\n",
      "Columns: [incomes, expenses]\n",
      "Index: []\n"
     ]
    },
    {
     "ename": "UnboundLocalError",
     "evalue": "local variable 'profit' referenced before assignment",
     "output_type": "error",
     "traceback": [
      "\u001b[1;31m---------------------------------------------------------------------------\u001b[0m",
      "\u001b[1;31mUnboundLocalError\u001b[0m                         Traceback (most recent call last)",
      "\u001b[1;32md:\\ide\\code\\skillfactory\\PY_10_Pandas_Introduction\\task_.ipynb Ячейка 2\u001b[0m in \u001b[0;36m<cell line: 25>\u001b[1;34m()\u001b[0m\n\u001b[0;32m     <a href='vscode-notebook-cell:/d%3A/ide/code/skillfactory/PY_10_Pandas_Introduction/task_.ipynb#W4sZmlsZQ%3D%3D?line=22'>23</a>\u001b[0m frame \u001b[39m=\u001b[39m create_companyDF(incomes, expenses, years)\n\u001b[0;32m     <a href='vscode-notebook-cell:/d%3A/ide/code/skillfactory/PY_10_Pandas_Introduction/task_.ipynb#W4sZmlsZQ%3D%3D?line=23'>24</a>\u001b[0m \u001b[39mprint\u001b[39m(frame)\n\u001b[1;32m---> <a href='vscode-notebook-cell:/d%3A/ide/code/skillfactory/PY_10_Pandas_Introduction/task_.ipynb#W4sZmlsZQ%3D%3D?line=24'>25</a>\u001b[0m \u001b[39mprint\u001b[39m(get_profit(frame,\u001b[39m2020\u001b[39;49m))\n",
      "\u001b[1;32md:\\ide\\code\\skillfactory\\PY_10_Pandas_Introduction\\task_.ipynb Ячейка 2\u001b[0m in \u001b[0;36mget_profit\u001b[1;34m(df, year)\u001b[0m\n\u001b[0;32m     <a href='vscode-notebook-cell:/d%3A/ide/code/skillfactory/PY_10_Pandas_Introduction/task_.ipynb#W4sZmlsZQ%3D%3D?line=17'>18</a>\u001b[0m \u001b[39melse\u001b[39;00m:\n\u001b[0;32m     <a href='vscode-notebook-cell:/d%3A/ide/code/skillfactory/PY_10_Pandas_Introduction/task_.ipynb#W4sZmlsZQ%3D%3D?line=18'>19</a>\u001b[0m     \u001b[39mNone\u001b[39;00m\n\u001b[1;32m---> <a href='vscode-notebook-cell:/d%3A/ide/code/skillfactory/PY_10_Pandas_Introduction/task_.ipynb#W4sZmlsZQ%3D%3D?line=19'>20</a>\u001b[0m \u001b[39mreturn\u001b[39;00m profit\n",
      "\u001b[1;31mUnboundLocalError\u001b[0m: local variable 'profit' referenced before assignment"
     ]
    }
   ],
   "source": [
    "import pandas as pd\n",
    "\n",
    "incomes = [478, 512, 196]\n",
    "expenses = [156, 130, 270]\n",
    "years = [2018, 2019, 2020]\n",
    "    \n",
    "def create_companyDF(incomes=0, expenses=0, years=0):\n",
    "    \n",
    "    df = pd.DataFrame({\n",
    "        'incomes':incomes,\n",
    "        'expenses':expenses\n",
    "        },\n",
    "        index= years)\n",
    "    return df\n",
    "\n",
    "def get_profit(df, year):\n",
    "    \n",
    "    if year in df.index:\n",
    "        profit = df.loc[year,'incomes'] - df.loc[year,'expenses']\n",
    "    else:\n",
    "        None\n",
    "    return profit\n",
    "\n",
    "\n",
    "frame = create_companyDF(incomes, expenses, years)\n",
    "print(frame)\n",
    "print(get_profit(frame,2020))\n"
   ]
  }
 ],
 "metadata": {
  "kernelspec": {
   "display_name": "Python 3.10.6 64-bit",
   "language": "python",
   "name": "python3"
  },
  "language_info": {
   "codemirror_mode": {
    "name": "ipython",
    "version": 3
   },
   "file_extension": ".py",
   "mimetype": "text/x-python",
   "name": "python",
   "nbconvert_exporter": "python",
   "pygments_lexer": "ipython3",
   "version": "3.10.6"
  },
  "orig_nbformat": 4,
  "vscode": {
   "interpreter": {
    "hash": "27b4a17af713f464e4f7b4da81cd20c20d6cf4af2f1712b81a84a456da04343d"
   }
  }
 },
 "nbformat": 4,
 "nbformat_minor": 2
}
