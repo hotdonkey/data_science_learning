{
 "cells": [
  {
   "cell_type": "code",
   "execution_count": 1,
   "metadata": {},
   "outputs": [],
   "source": [
    "import psycopg2\n",
    "import pandas as pd\n",
    "\n",
    "#Блок входа в базу данных Project_sql без засвета параметров\n",
    "db_params = pd.read_csv('/Users/hotdonkey/Documents/GitHub/data_science_learning/Project_2/db_project_sql.csv', sep=';')\n",
    "\n",
    "connection = psycopg2.connect(\n",
    "    dbname=db_params['DBNAME'].values[0],\n",
    "    user=db_params['USER'].values[0],\n",
    "    host=db_params['HOST'].values[0],\n",
    "    password=db_params['PASSWORD'].values[0],\n",
    "    port=db_params['PORT'].values[0]\n",
    ")"
   ]
  },
  {
   "cell_type": "code",
   "execution_count": 2,
   "metadata": {},
   "outputs": [
    {
     "name": "stderr",
     "output_type": "stream",
     "text": [
      "/var/folders/18/xwlc5znx4tz1pcrtznkl3fch0000gn/T/ipykernel_4034/575121157.py:3: UserWarning: pandas only supports SQLAlchemy connectable (engine/connection) or database string URI or sqlite3 DBAPI2 connection. Other DBAPI2 objects are not tested. Please consider using SQLAlchemy.\n",
      "  vacancies_df = pd.read_sql(query_vac,connection)\n"
     ]
    },
    {
     "name": "stdout",
     "output_type": "stream",
     "text": [
      "<class 'pandas.core.frame.DataFrame'>\n",
      "RangeIndex: 49197 entries, 0 to 49196\n",
      "Data columns (total 10 columns):\n",
      " #   Column       Non-Null Count  Dtype  \n",
      "---  ------       --------------  -----  \n",
      " 0   id           49197 non-null  int64  \n",
      " 1   name         49197 non-null  object \n",
      " 2   key_skills   40741 non-null  object \n",
      " 3   schedule     49197 non-null  object \n",
      " 4   experience   49197 non-null  object \n",
      " 5   employment   49197 non-null  object \n",
      " 6   salary_from  21485 non-null  float64\n",
      " 7   salary_to    12690 non-null  float64\n",
      " 8   area_id      49197 non-null  int64  \n",
      " 9   employer_id  49197 non-null  int64  \n",
      "dtypes: float64(2), int64(3), object(5)\n",
      "memory usage: 3.8+ MB\n"
     ]
    }
   ],
   "source": [
    "query_vac = f'''SELECT *\n",
    "            FROM public.vacancies'''\n",
    "vacancies_df = pd.read_sql(query_vac,connection)\n",
    "vacancies_df.info()"
   ]
  },
  {
   "cell_type": "code",
   "execution_count": 3,
   "metadata": {},
   "outputs": [
    {
     "name": "stderr",
     "output_type": "stream",
     "text": [
      "/var/folders/18/xwlc5znx4tz1pcrtznkl3fch0000gn/T/ipykernel_4034/1990599530.py:3: UserWarning: pandas only supports SQLAlchemy connectable (engine/connection) or database string URI or sqlite3 DBAPI2 connection. Other DBAPI2 objects are not tested. Please consider using SQLAlchemy.\n",
      "  employers_df = pd.read_sql(query_empl, connection)\n"
     ]
    },
    {
     "name": "stdout",
     "output_type": "stream",
     "text": [
      "<class 'pandas.core.frame.DataFrame'>\n",
      "RangeIndex: 23501 entries, 0 to 23500\n",
      "Data columns (total 3 columns):\n",
      " #   Column  Non-Null Count  Dtype \n",
      "---  ------  --------------  ----- \n",
      " 0   id      23501 non-null  int64 \n",
      " 1   name    23501 non-null  object\n",
      " 2   area    23501 non-null  int64 \n",
      "dtypes: int64(2), object(1)\n",
      "memory usage: 550.9+ KB\n"
     ]
    }
   ],
   "source": [
    "query_empl = '''SELECT *\n",
    "                FROM public.employers'''\n",
    "employers_df = pd.read_sql(query_empl, connection)\n",
    "employers_df.info()"
   ]
  },
  {
   "cell_type": "code",
   "execution_count": 4,
   "metadata": {},
   "outputs": [
    {
     "name": "stdout",
     "output_type": "stream",
     "text": [
      "<class 'pandas.core.frame.DataFrame'>\n",
      "RangeIndex: 1362 entries, 0 to 1361\n",
      "Data columns (total 2 columns):\n",
      " #   Column  Non-Null Count  Dtype \n",
      "---  ------  --------------  ----- \n",
      " 0   id      1362 non-null   int64 \n",
      " 1   name    1362 non-null   object\n",
      "dtypes: int64(1), object(1)\n",
      "memory usage: 21.4+ KB\n"
     ]
    },
    {
     "name": "stderr",
     "output_type": "stream",
     "text": [
      "/var/folders/18/xwlc5znx4tz1pcrtznkl3fch0000gn/T/ipykernel_4034/509316398.py:3: UserWarning: pandas only supports SQLAlchemy connectable (engine/connection) or database string URI or sqlite3 DBAPI2 connection. Other DBAPI2 objects are not tested. Please consider using SQLAlchemy.\n",
      "  areas_df = pd.read_sql(query_areas, connection)\n"
     ]
    }
   ],
   "source": [
    "query_areas = '''SELECT *\n",
    "                 FROM public.areas'''\n",
    "areas_df = pd.read_sql(query_areas, connection)\n",
    "areas_df.info()"
   ]
  },
  {
   "cell_type": "code",
   "execution_count": 5,
   "metadata": {},
   "outputs": [
    {
     "name": "stdout",
     "output_type": "stream",
     "text": [
      "<class 'pandas.core.frame.DataFrame'>\n",
      "RangeIndex: 294 entries, 0 to 293\n",
      "Data columns (total 2 columns):\n",
      " #   Column  Non-Null Count  Dtype \n",
      "---  ------  --------------  ----- \n",
      " 0   id      294 non-null    object\n",
      " 1   name    294 non-null    object\n",
      "dtypes: object(2)\n",
      "memory usage: 4.7+ KB\n"
     ]
    },
    {
     "name": "stderr",
     "output_type": "stream",
     "text": [
      "/var/folders/18/xwlc5znx4tz1pcrtznkl3fch0000gn/T/ipykernel_4034/1582984800.py:3: UserWarning: pandas only supports SQLAlchemy connectable (engine/connection) or database string URI or sqlite3 DBAPI2 connection. Other DBAPI2 objects are not tested. Please consider using SQLAlchemy.\n",
      "  industries_df = pd.read_sql(query_industries, connection)\n"
     ]
    }
   ],
   "source": [
    "query_industries = '''SELECT *\n",
    "                      FROM public.industries'''\n",
    "industries_df = pd.read_sql(query_industries, connection)\n",
    "industries_df.info()"
   ]
  },
  {
   "cell_type": "code",
   "execution_count": 6,
   "metadata": {},
   "outputs": [],
   "source": [
    "connection.close()"
   ]
  }
 ],
 "metadata": {
  "kernelspec": {
   "display_name": "Python 3",
   "language": "python",
   "name": "python3"
  },
  "language_info": {
   "codemirror_mode": {
    "name": "ipython",
    "version": 3
   },
   "file_extension": ".py",
   "mimetype": "text/x-python",
   "name": "python",
   "nbconvert_exporter": "python",
   "pygments_lexer": "ipython3",
   "version": "3.11.0"
  },
  "orig_nbformat": 4,
  "vscode": {
   "interpreter": {
    "hash": "aee8b7b246df8f9039afb4144a1f6fd8d2ca17a180786b69acc140d282b71a49"
   }
  }
 },
 "nbformat": 4,
 "nbformat_minor": 2
}
